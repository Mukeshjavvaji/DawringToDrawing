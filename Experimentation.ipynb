{
 "cells": [
  {
   "cell_type": "markdown",
   "id": "ef634dec",
   "metadata": {},
   "source": [
    "# Dawring To Drawing"
   ]
  },
  {
   "cell_type": "code",
   "execution_count": 2,
   "id": "35f8a8a9",
   "metadata": {},
   "outputs": [],
   "source": [
    "import datetime, os\n",
    "import tensorflow as tf\n",
    "\n",
    "from pathlib import Path\n",
    "from matplotlib import pyplot as plt\n",
    "from quickdraw import QuickDrawDataGroup, QuickDrawData\n",
    "\n",
    "from tensorflow.keras.preprocessing import image_dataset_from_directory\n",
    "\n",
    "from tensorflow.keras.models import Sequential\n",
    "from tensorflow.keras.losses import SparseCategoricalCrossentropy\n",
    "from tensorflow.keras.metrics import sparse_categorical_accuracy\n",
    "from tensorflow.keras.layers.experimental.preprocessing import Rescaling\n",
    "from tensorflow.keras.layers import Dense, Flatten, Conv2D, MaxPooling2D, Dropout, BatchNormalization"
   ]
  },
  {
   "cell_type": "markdown",
   "id": "a7cf7a83",
   "metadata": {},
   "source": [
    "Image Size Standard"
   ]
  },
  {
   "cell_type": "code",
   "execution_count": 3,
   "id": "6517b326",
   "metadata": {},
   "outputs": [],
   "source": [
    "image_size = (28, 28)"
   ]
  },
  {
   "cell_type": "markdown",
   "id": "7c7e4eaa",
   "metadata": {},
   "source": [
    "## Acquisition"
   ]
  },
  {
   "cell_type": "code",
   "execution_count": 4,
   "id": "9abd8853",
   "metadata": {},
   "outputs": [],
   "source": [
    "def generate_class_images(name, max_drawings, recognized):\n",
    "    directory = Path(\"dataset/\" + name)\n",
    "\n",
    "    if not directory.exists():\n",
    "        directory.mkdir(parents=True)\n",
    "\n",
    "    images = QuickDrawDataGroup(name, max_drawings=max_drawings, recognized=recognized)\n",
    "    for img in images.drawings:\n",
    "        filename = directory.as_posix() + \"/\" + str(img.key_id) + \".png\"\n",
    "        img.get_image(stroke_width=3).resize(image_size).save(filename)\n",
    "\n",
    "for label in QuickDrawData().drawing_names:\n",
    "    generate_class_images(label, max_drawings=1200, recognized=True)"
   ]
  },
  {
   "cell_type": "markdown",
   "id": "c3988de1",
   "metadata": {},
   "source": [
    "## Test Train Validation Split"
   ]
  },
  {
   "cell_type": "code",
   "execution_count": 5,
   "id": "6fd72715",
   "metadata": {},
   "outputs": [
    {
     "name": "stdout",
     "output_type": "stream",
     "text": [
      "Found 412800 files belonging to 345 classes.\n",
      "Using 330240 files for training.\n",
      "Found 412800 files belonging to 345 classes.\n",
      "Using 82560 files for validation.\n"
     ]
    }
   ],
   "source": [
    "batch_size = 32\n",
    "\n",
    "train_ds = image_dataset_from_directory(\n",
    "    \"dataset\",\n",
    "    validation_split=0.2,\n",
    "    subset=\"training\",\n",
    "    seed=123,\n",
    "    color_mode=\"grayscale\",\n",
    "    image_size=image_size,\n",
    "    batch_size=batch_size\n",
    ")\n",
    "\n",
    "val_ds = image_dataset_from_directory(\n",
    "    \"dataset\",\n",
    "    validation_split=0.2,\n",
    "    subset=\"validation\",\n",
    "    seed=123,\n",
    "    color_mode=\"grayscale\",\n",
    "    image_size=image_size,\n",
    "    batch_size=batch_size\n",
    ")"
   ]
  },
  {
   "cell_type": "code",
   "execution_count": 6,
   "id": "d243d6b9",
   "metadata": {},
   "outputs": [
    {
     "data": {
      "image/png": "[encoded data removed]",
      "text/plain": [
       "<Figure size 576x576 with 9 Axes>"
      ]
     },
     "metadata": {
      "needs_background": "light"
     },
     "output_type": "display_data"
    }
   ],
   "source": [
    "plt.figure(figsize=(8, 8))\n",
    "for images, labels in train_ds.take(1):\n",
    "    for i in range(9):\n",
    "        ax = plt.subplot(3, 3, i + 1)\n",
    "        data = images[i].numpy().astype(\"uint8\")\n",
    "        plt.imshow(data, cmap='gray', vmin=0, vmax=255)\n",
    "        plt.title(train_ds.class_names[labels[i]])\n",
    "        plt.axis(\"off\")"
   ]
  },
  {
   "cell_type": "markdown",
   "id": "f07135de",
   "metadata": {},
   "source": [
    "## Modelling"
   ]
  },
  {
   "cell_type": "code",
   "execution_count": 7,
   "id": "524d32a9",
   "metadata": {},
   "outputs": [
    {
     "name": "stdout",
     "output_type": "stream",
     "text": [
      "Model: \"sequential\"\n",
      "_________________________________________________________________\n",
      " Layer (type)                Output Shape              Param #   \n",
      "=================================================================\n",
      " rescaling (Rescaling)       (None, 28, 28, 1)         0         \n",
      "                                                                 \n",
      " batch_normalization (BatchN  (None, 28, 28, 1)        4         \n",
      " ormalization)                                                   \n",
      "                                                                 \n",
      " conv2d (Conv2D)             (None, 28, 28, 6)         60        \n",
      "                                                                 \n",
      " conv2d_1 (Conv2D)           (None, 28, 28, 8)         440       \n",
      "                                                                 \n",
      " conv2d_2 (Conv2D)           (None, 28, 28, 10)        730       \n",
      "                                                                 \n",
      " batch_normalization_1 (Batc  (None, 28, 28, 10)       40        \n",
      " hNormalization)                                                 \n",
      "                                                                 \n",
      " max_pooling2d (MaxPooling2D  (None, 14, 14, 10)       0         \n",
      " )                                                               \n",
      "                                                                 \n",
      " flatten (Flatten)           (None, 1960)              0         \n",
      "                                                                 \n",
      " dense (Dense)               (None, 700)               1372700   \n",
      "                                                                 \n",
      " batch_normalization_2 (Batc  (None, 700)              2800      \n",
      " hNormalization)                                                 \n",
      "                                                                 \n",
      " dropout (Dropout)           (None, 700)               0         \n",
      "                                                                 \n",
      " dense_1 (Dense)             (None, 500)               350500    \n",
      "                                                                 \n",
      " batch_normalization_3 (Batc  (None, 500)              2000      \n",
      " hNormalization)                                                 \n",
      "                                                                 \n",
      " dropout_1 (Dropout)         (None, 500)               0         \n",
      "                                                                 \n",
      " dense_2 (Dense)             (None, 400)               200400    \n",
      "                                                                 \n",
      " dropout_2 (Dropout)         (None, 400)               0         \n",
      "                                                                 \n",
      " dense_3 (Dense)             (None, 345)               138345    \n",
      "                                                                 \n",
      "=================================================================\n",
      "Total params: 2,068,019\n",
      "Trainable params: 2,065,597\n",
      "Non-trainable params: 2,422\n",
      "_________________________________________________________________\n"
     ]
    }
   ],
   "source": [
    "input_shape = (28, 28, 1)\n",
    "n_classes = 345\n",
    "\n",
    "model = Sequential([\n",
    "    Rescaling(1. / 255, input_shape=input_shape),\n",
    "    BatchNormalization(),\n",
    "\n",
    "    Conv2D(6, kernel_size=(3, 3), padding=\"same\", activation=\"relu\"),\n",
    "    Conv2D(8, kernel_size=(3, 3), padding=\"same\", activation=\"relu\"),\n",
    "    Conv2D(10, kernel_size=(3, 3), padding=\"same\", activation=\"relu\"),\n",
    "    BatchNormalization(),\n",
    "    MaxPooling2D(pool_size=(2, 2)),\n",
    "\n",
    "    Flatten(),\n",
    "\n",
    "    Dense(700, activation='relu'),\n",
    "    BatchNormalization(),\n",
    "    Dropout(0.2),\n",
    "\n",
    "    Dense(500, activation='relu'),\n",
    "    BatchNormalization(),\n",
    "    Dropout(0.2),\n",
    "\n",
    "    Dense(400, activation='relu'),\n",
    "    Dropout(0.2),\n",
    "\n",
    "    Dense(n_classes, activation='softmax')\n",
    "])\n",
    "\n",
    "model.compile(\n",
    "    optimizer=\"adam\",\n",
    "    loss=SparseCategoricalCrossentropy(),\n",
    "    metrics=[\"accuracy\"]\n",
    ")\n",
    "\n",
    "model.summary()"
   ]
  },
  {
   "cell_type": "markdown",
   "id": "cddbbc90",
   "metadata": {},
   "source": [
    "## Training"
   ]
  },
  {
   "cell_type": "code",
   "execution_count": 8,
   "id": "ce2f0486",
   "metadata": {},
   "outputs": [
    {
     "name": "stdout",
     "output_type": "stream",
     "text": [
      "Epoch 1/14\n",
      "10320/10320 [==============================] - 1149s 111ms/step - loss: 2.8881 - accuracy: 0.3315 - val_loss: 2.2192 - val_accuracy: 0.4486\n",
      "Epoch 2/14\n",
      "10320/10320 [==============================] - 803s 78ms/step - loss: 2.1585 - accuracy: 0.4583 - val_loss: 1.7726 - val_accuracy: 0.5417\n",
      "Epoch 3/14\n",
      "10320/10320 [==============================] - 795s 77ms/step - loss: 1.9239 - accuracy: 0.5063 - val_loss: 1.7416 - val_accuracy: 0.5497\n",
      "Epoch 4/14\n",
      "10320/10320 [==============================] - 785s 76ms/step - loss: 1.7896 - accuracy: 0.5348 - val_loss: 1.7344 - val_accuracy: 0.5504\n",
      "Epoch 5/14\n",
      "10320/10320 [==============================] - 778s 75ms/step - loss: 1.6937 - accuracy: 0.5544 - val_loss: 1.6211 - val_accuracy: 0.5785\n",
      "Epoch 6/14\n",
      "10320/10320 [==============================] - 771s 75ms/step - loss: 1.6262 - accuracy: 0.5686 - val_loss: 1.5987 - val_accuracy: 0.5797\n",
      "Epoch 7/14\n",
      "10320/10320 [==============================] - 772s 75ms/step - loss: 1.5730 - accuracy: 0.5800 - val_loss: 1.5963 - val_accuracy: 0.5872\n",
      "Epoch 8/14\n",
      "10320/10320 [==============================] - 781s 76ms/step - loss: 1.5278 - accuracy: 0.5896 - val_loss: 1.5690 - val_accuracy: 0.5913\n",
      "Epoch 9/14\n",
      "10320/10320 [==============================] - 770s 75ms/step - loss: 1.4897 - accuracy: 0.5977 - val_loss: 1.5190 - val_accuracy: 0.6013\n",
      "Epoch 10/14\n",
      "10320/10320 [==============================] - 789s 76ms/step - loss: 1.4568 - accuracy: 0.6047 - val_loss: 1.5349 - val_accuracy: 0.6014\n",
      "Epoch 11/14\n",
      "10320/10320 [==============================] - 798s 77ms/step - loss: 1.4293 - accuracy: 0.6101 - val_loss: 1.5368 - val_accuracy: 0.6030\n",
      "Epoch 12/14\n",
      "10320/10320 [==============================] - 800s 77ms/step - loss: 1.4042 - accuracy: 0.6158 - val_loss: 1.5307 - val_accuracy: 0.6029\n",
      "Epoch 13/14\n",
      "10320/10320 [==============================] - 806s 78ms/step - loss: 1.3774 - accuracy: 0.6205 - val_loss: 1.5282 - val_accuracy: 0.6064\n",
      "Epoch 14/14\n",
      "10320/10320 [==============================] - 802s 78ms/step - loss: 1.3592 - accuracy: 0.6254 - val_loss: 1.5187 - val_accuracy: 0.6101\n"
     ]
    },
    {
     "name": "stderr",
     "output_type": "stream",
     "text": [
      "WARNING:absl:Found untraced functions such as _jit_compiled_convolution_op, _jit_compiled_convolution_op, _jit_compiled_convolution_op while saving (showing 3 of 3). These functions will not be directly callable after loading.\n"
     ]
    },
    {
     "name": "stdout",
     "output_type": "stream",
     "text": [
      "INFO:tensorflow:Assets written to: ./models/model_20220814-115719\\assets\n"
     ]
    },
    {
     "name": "stderr",
     "output_type": "stream",
     "text": [
      "INFO:tensorflow:Assets written to: ./models/model_20220814-115719\\assets\n"
     ]
    }
   ],
   "source": [
    "epochs = 14\n",
    "\n",
    "model.fit(\n",
    "    train_ds,\n",
    "    validation_data=val_ds,\n",
    "    epochs=epochs,\n",
    "    verbose=1\n",
    ")\n",
    "\n",
    "model.save('models/model_20220814-115719')"
   ]
  },
  {
   "cell_type": "markdown",
   "id": "f4fc724a",
   "metadata": {},
   "source": [
    "## Storing"
   ]
  },
  {
   "cell_type": "code",
   "execution_count": 9,
   "id": "9abdcde1",
   "metadata": {},
   "outputs": [],
   "source": [
    "converter = tf.lite.TFLiteConverter.from_saved_model(\"models/model_20220814-115719\")\n",
    "tflite_model = converter.convert()\n",
    "\n",
    "with open('model.tflite', 'wb') as f:\n",
    "  f.write(tflite_model)"
   ]
  }
 ],
 "metadata": {
  "kernelspec": {
   "display_name": "Python 3.10.2 64-bit",
   "language": "python",
   "name": "python3"
  },
  "language_info": {
   "codemirror_mode": {
    "name": "ipython",
    "version": 3
   },
   "file_extension": ".py",
   "mimetype": "text/x-python",
   "name": "python",
   "nbconvert_exporter": "python",
   "pygments_lexer": "ipython3",
   "version": "3.10.2"
  },
  "vscode": {
   "interpreter": {
    "hash": "369f2c481f4da34e4445cda3fffd2e751bd1c4d706f27375911949ba6bb62e1c"
   }
  }
 },
 "nbformat": 4,
 "nbformat_minor": 5
}
